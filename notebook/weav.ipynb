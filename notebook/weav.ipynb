{
 "cells": [
  {
   "cell_type": "markdown",
   "id": "a63ccf00",
   "metadata": {},
   "source": [
    "Нужно установить weaviate-client"
   ]
  },
  {
   "cell_type": "code",
   "execution_count": 36,
   "id": "1b6514a0",
   "metadata": {},
   "outputs": [],
   "source": [
    "import weaviate\n",
    "from weaviate.classes.init import Auth\n",
    "from weaviate.classes.config import Property, DataType\n",
    "\n",
    "\n",
    "client = weaviate.connect_to_local(\n",
    "    host=\"cat-vm2.v6.rocks\",  # Use a string to specify the host\n",
    "    port=8080,\n",
    "    auth_credentials=Auth.api_key(\"Hack_the_VK\"),\n",
    "    skip_init_checks=True,\n",
    ")\n",
    "\n",
    "assert client.is_ready()"
   ]
  },
  {
   "cell_type": "code",
   "execution_count": 2,
   "id": "9933a8d5",
   "metadata": {},
   "outputs": [
    {
     "name": "stdout",
     "output_type": "stream",
     "text": [
      "True\n"
     ]
    }
   ],
   "source": [
    "print(client.is_ready())"
   ]
  },
  {
   "cell_type": "code",
   "execution_count": null,
   "id": "31d5d0c3",
   "metadata": {},
   "outputs": [
    {
     "name": "stderr",
     "output_type": "stream",
     "text": [
      "/home/rin/.cache/pypoetry/virtualenvs/cat-spider-3u5woAeV-py3.12/lib/python3.12/site-packages/weaviate/collections/classes/config.py:2082: PydanticDeprecatedSince211: Accessing the 'model_fields' attribute on the instance is deprecated. Instead, you should access this attribute from the model class. Deprecated in Pydantic V2.11 to be removed in V3.0.\n",
      "  for cls_field in self.model_fields:\n"
     ]
    }
   ],
   "source": [
    "from weaviate.classes.config import Configure, Property, DataType\n",
    "\n",
    "try:\n",
    "# Note that you can use `client.collections.create_from_dict()` to create a collection from a v3-client-style JSON object\n",
    "    client.collections.create(\n",
    "        \"Articles\",\n",
    "        properties=[\n",
    "            Property(name=\"title\", data_type=DataType.TEXT),\n",
    "            Property(name=\"body\", data_type=DataType.TEXT),\n",
    "        ],\n",
    "        vectorizer_config=[\n",
    "            Configure.NamedVectors.text2vec_ollama(\n",
    "                name=\"common_vectorizer\",\n",
    "                source_properties=[\"title\", \"body\"],\n",
    "                api_endpoint=\"http://ollama:11434\",\n",
    "            )\n",
    "        ]\n",
    "    )\n",
    "except Exception as e:\n",
    "    print(e)\n",
    "\n"
   ]
  },
  {
   "cell_type": "code",
   "execution_count": null,
   "id": "8795be94",
   "metadata": {},
   "outputs": [],
   "source": [
    "collection = client.collections.get(\"red\")\n"
   ]
  },
  {
   "cell_type": "code",
   "execution_count": 48,
   "id": "831fa2c5",
   "metadata": {},
   "outputs": [],
   "source": [
    "client.collections.delete(\"Articles\")"
   ]
  },
  {
   "cell_type": "code",
   "execution_count": 45,
   "id": "8316fade",
   "metadata": {},
   "outputs": [
    {
     "ename": "AttributeError",
     "evalue": "'WeaviateClient' object has no attribute 'schema'",
     "output_type": "error",
     "traceback": [
      "\u001b[31m---------------------------------------------------------------------------\u001b[39m",
      "\u001b[31mAttributeError\u001b[39m                            Traceback (most recent call last)",
      "\u001b[36mCell\u001b[39m\u001b[36m \u001b[39m\u001b[32mIn[45]\u001b[39m\u001b[32m, line 1\u001b[39m\n\u001b[32m----> \u001b[39m\u001b[32m1\u001b[39m existing_classes = \u001b[43mclient\u001b[49m\u001b[43m.\u001b[49m\u001b[43mschema\u001b[49m.get()\n\u001b[32m      2\u001b[39m existing_classes\n",
      "\u001b[31mAttributeError\u001b[39m: 'WeaviateClient' object has no attribute 'schema'"
     ]
    }
   ],
   "source": [
    "existing_classes = client.schema.get()\n",
    "existing_classes"
   ]
  },
  {
   "cell_type": "code",
   "execution_count": 49,
   "id": "6ed30431",
   "metadata": {},
   "outputs": [
    {
     "data": {
      "text/plain": [
       "<weaviate.collections.collection.sync.Collection at 0x7d6458936450>"
      ]
     },
     "execution_count": 49,
     "metadata": {},
     "output_type": "execute_result"
    }
   ],
   "source": [
    "# def create_collection(client: weaviate.WeaviateClient, model: str, name: str):\n",
    "client.collections.create(\n",
    "    \"Articles\",\n",
    "    vectorizer_config=[\n",
    "        Configure.NamedVectors.text2vec_ollama(\n",
    "            name=\"title_vector\",\n",
    "            source_properties=[\"title\"],\n",
    "            api_endpoint=\"http://ollama:11434\",  \n",
    "            model=\"mistral\"  \n",
    "        ),\n",
    "        Configure.NamedVectors.text2vec_ollama(\n",
    "            name=\"content_vector\",\n",
    "            source_properties=[\"chunk\"],  # each doc has chunks\n",
    "            api_endpoint=\"http://ollama:11434\",  \n",
    "            model=\"mistral\"\n",
    "        )\n",
    "    ],\n",
    ")\n"
   ]
  },
  {
   "cell_type": "code",
   "execution_count": null,
   "id": "57a25fdf",
   "metadata": {},
   "outputs": [],
   "source": [
    "create_collection(client, \"mistral\", \"red\")"
   ]
  },
  {
   "cell_type": "code",
   "execution_count": null,
   "id": "803f40b7",
   "metadata": {},
   "outputs": [],
   "source": []
  },
  {
   "cell_type": "code",
   "execution_count": 52,
   "id": "3406a917",
   "metadata": {},
   "outputs": [
    {
     "name": "stdout",
     "output_type": "stream",
     "text": [
      "e42a2d65-38f4-4372-9330-e91922f9aa72 {'title': 'The Travels of Marco Polo', 'body': \"A 13th-century travelogue describing Polo's travels\"}\n"
     ]
    }
   ],
   "source": [
    "collection = client.collections.get(\"Articles\")\n",
    "\n",
    "for item in collection.iterator():\n",
    "    print(item.uuid, item.properties)"
   ]
  },
  {
   "cell_type": "code",
   "execution_count": 51,
   "id": "b2070694",
   "metadata": {},
   "outputs": [],
   "source": [
    "res = collection.data.insert({\n",
    "    \"title\": \"The Travels of Marco Polo\",\n",
    "    \"body\": \"A 13th-century travelogue describing Polo's travels\",\n",
    "})"
   ]
  },
  {
   "cell_type": "code",
   "execution_count": 73,
   "id": "d7d1b28b",
   "metadata": {},
   "outputs": [],
   "source": [
    "client.close()"
   ]
  }
 ],
 "metadata": {
  "kernelspec": {
   "display_name": "cat-spider-3u5woAeV-py3.12",
   "language": "python",
   "name": "python3"
  },
  "language_info": {
   "codemirror_mode": {
    "name": "ipython",
    "version": 3
   },
   "file_extension": ".py",
   "mimetype": "text/x-python",
   "name": "python",
   "nbconvert_exporter": "python",
   "pygments_lexer": "ipython3",
   "version": "3.12.9"
  }
 },
 "nbformat": 4,
 "nbformat_minor": 5
}
