{
 "cells": [
  {
   "cell_type": "code",
   "execution_count": null,
   "id": "4798d832",
   "metadata": {},
   "outputs": [],
   "source": [
    "import sys\n",
    "\n",
    "sys.path.append('/study/project/vk-hr-tek/cat-spider')\n",
    "from src.common.vectordb import init_marqo\n"
   ]
  },
  {
   "cell_type": "code",
   "execution_count": 5,
   "id": "1dff05a8",
   "metadata": {},
   "outputs": [
    {
     "name": "stderr",
     "output_type": "stream",
     "text": [
      "\u001b[1mINFO\u001b[0m | \u001b[32m2025-04-10 18:30:29.519\u001b[0m | \u001b[36mvectordb\u001b[0m | \u001b[36minit_marqo\u001b[0m:\u001b[36m13\u001b[0m - \u001b[1mInitializing marqo client: http://cat-vm2.v6.rocks:8081 ...\u001b[0m\n",
      "\u001b[1mINFO\u001b[0m | \u001b[32m2025-04-10 18:30:29.612\u001b[0m | \u001b[36mvectordb\u001b[0m | \u001b[36minit_marqo\u001b[0m:\u001b[36m28\u001b[0m - \u001b[1mMarqo indexes: [{'indexName': 'my_inde1111'}, {'indexName': 'my_index'}, {'indexName': 'test_api_index'}, {'indexName': 'page_20250409_valer'}, {'indexName': 'my_idma'}]\u001b[0m\n",
      "\u001b[1mINFO\u001b[0m | \u001b[32m2025-04-10 18:30:29.613\u001b[0m | \u001b[36mvectordb\u001b[0m | \u001b[36minit_marqo\u001b[0m:\u001b[36m35\u001b[0m - \u001b[1mMarqo index exists: page_20250409_valer\u001b[0m\n"
     ]
    }
   ],
   "source": [
    "index_name = 'page_20250409_valer'\n",
    "mq = init_marqo(index_name)\n",
    "idx = mq.index(index_name)"
   ]
  },
  {
   "cell_type": "code",
   "execution_count": 6,
   "id": "c2d04520",
   "metadata": {},
   "outputs": [
    {
     "data": {
      "text/plain": [
       "{'numberOfDocuments': 39,\n",
       " 'numberOfVectors': 39,\n",
       " 'backend': {'memoryUsedPercentage': 2.3722926589799997,\n",
       "  'storageUsedPercentage': 17.89415250398}}"
      ]
     },
     "execution_count": 6,
     "metadata": {},
     "output_type": "execute_result"
    }
   ],
   "source": [
    "idx.get_stats()"
   ]
  },
  {
   "cell_type": "code",
   "execution_count": 7,
   "id": "e602a098",
   "metadata": {},
   "outputs": [
    {
     "data": {
      "text/plain": [
       "{'models': [{'model_name': 'hf/e5-base-v2', 'model_device': 'cpu'},\n",
       "  {'model_name': 'open_clip/ViT-B-32/laion2b_s34b_b79k',\n",
       "   'model_device': 'cpu'}]}"
      ]
     },
     "execution_count": 7,
     "metadata": {},
     "output_type": "execute_result"
    }
   ],
   "source": [
    "idx.get_loaded_models()"
   ]
  },
  {
   "cell_type": "code",
   "execution_count": 8,
   "id": "a483f105",
   "metadata": {},
   "outputs": [
    {
     "data": {
      "text/plain": [
       "{'type': 'unstructured',\n",
       " 'treatUrlsAndPointersAsImages': False,\n",
       " 'treatUrlsAndPointersAsMedia': False,\n",
       " 'filterStringMaxLength': 50,\n",
       " 'model': 'hf/e5-base-v2',\n",
       " 'normalizeEmbeddings': True,\n",
       " 'textPreprocessing': {'splitLength': 2,\n",
       "  'splitOverlap': 0,\n",
       "  'splitMethod': 'sentence'},\n",
       " 'imagePreprocessing': {},\n",
       " 'videoPreprocessing': {'splitLength': 20, 'splitOverlap': 3},\n",
       " 'audioPreprocessing': {'splitLength': 10, 'splitOverlap': 3},\n",
       " 'vectorNumericType': 'float',\n",
       " 'annParameters': {'spaceType': 'prenormalized-angular',\n",
       "  'parameters': {'efConstruction': 512, 'm': 16}}}"
      ]
     },
     "execution_count": 8,
     "metadata": {},
     "output_type": "execute_result"
    }
   ],
   "source": [
    "idx.get_settings()"
   ]
  },
  {
   "cell_type": "code",
   "execution_count": 14,
   "id": "221ca5b0",
   "metadata": {},
   "outputs": [
    {
     "data": {
      "text/plain": [
       "{'hits': [{'_id': '7a81d16e-e648-45b0-9e85-d9b7b345205d',\n",
       "   'name': 'Пользовательское соглашение',\n",
       "   'views_count': '0',\n",
       "   'created_at': '2025-03-28 10:07:35.528671+00:00',\n",
       "   'created_by_id': 'f60d1f0a-62d6-4e0e-8163-965fa8fe48a7',\n",
       "   'site_id': 'b7a8428a-9f61-46ff-9fcf-f835a577e1e3',\n",
       "   'type': 'page',\n",
       "   '_highlights': [{'name': 'Пользовательское соглашение'}],\n",
       "   '_score': 0.8919098362159089},\n",
       "  {'_id': 'e3d4a37b-0f4a-422a-a6b2-0101ce9a8e62',\n",
       "   'name': 'Главная',\n",
       "   'views_count': '1',\n",
       "   'created_at': '2025-03-28 10:03:09.454834+00:00',\n",
       "   'created_by_id': 'f60d1f0a-62d6-4e0e-8163-965fa8fe48a7',\n",
       "   'site_id': 'b7a8428a-9f61-46ff-9fcf-f835a577e1e3',\n",
       "   'type': 'page',\n",
       "   'updated_at': '2025-03-28 10:03:49.299474+00:00',\n",
       "   'updated_by_id': 'f60d1f0a-62d6-4e0e-8163-965fa8fe48a7',\n",
       "   '_highlights': [{'name': 'Главная'}],\n",
       "   '_score': 0.8871296807832912},\n",
       "  {'_id': '4ec8d8aa-b843-4431-9745-968d52ea67b3',\n",
       "   'name': 'Главная',\n",
       "   'views_count': '1',\n",
       "   'created_at': '2025-03-28 11:03:57.400267+00:00',\n",
       "   'created_by_id': 'f60d1f0a-62d6-4e0e-8163-965fa8fe48a7',\n",
       "   'site_id': '3b508b32-4c04-4a22-bc4f-94e4bd9f0bdb',\n",
       "   'type': 'page',\n",
       "   'updated_at': '2025-03-28 11:04:04.145645+00:00',\n",
       "   'updated_by_id': 'f60d1f0a-62d6-4e0e-8163-965fa8fe48a7',\n",
       "   '_highlights': [{'name': 'Главная'}],\n",
       "   '_score': 0.8871296807832912}],\n",
       " 'query': 'сегодня',\n",
       " 'limit': 3,\n",
       " 'offset': 0,\n",
       " 'processingTimeMs': 71}"
      ]
     },
     "execution_count": 14,
     "metadata": {},
     "output_type": "execute_result"
    }
   ],
   "source": [
    "query = \"сегодня\"\n",
    "\n",
    "idx.search(\n",
    "    q=query,\n",
    "    limit=3,\n",
    ")"
   ]
  }
 ],
 "metadata": {
  "kernelspec": {
   "display_name": "cat-spider-3u5woAeV-py3.12",
   "language": "python",
   "name": "python3"
  },
  "language_info": {
   "codemirror_mode": {
    "name": "ipython",
    "version": 3
   },
   "file_extension": ".py",
   "mimetype": "text/x-python",
   "name": "python",
   "nbconvert_exporter": "python",
   "pygments_lexer": "ipython3",
   "version": "3.12.9"
  }
 },
 "nbformat": 4,
 "nbformat_minor": 5
}
