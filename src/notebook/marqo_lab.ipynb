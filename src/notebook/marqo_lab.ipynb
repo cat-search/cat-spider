{
 "cells": [
  {
   "cell_type": "code",
   "execution_count": null,
   "id": "4798d832",
   "metadata": {},
   "outputs": [],
   "source": [
    "import sys\n",
    "\n",
    "# Сюда нужно добавить локальный путь к проекту, чтобы можно было импортировать локальные модули\n",
    "sys.path.append('/study/project/vk-hr-tek/cat-spider')\n",
    "from src.common.vectordb import init_marqo\n"
   ]
  },
  {
   "cell_type": "code",
   "execution_count": null,
   "id": "1dff05a8",
   "metadata": {},
   "outputs": [
    {
     "name": "stderr",
     "output_type": "stream",
     "text": [
      "\u001b[1mINFO\u001b[0m | \u001b[32m2025-04-10 18:30:29.519\u001b[0m | \u001b[36mvectordb\u001b[0m | \u001b[36minit_marqo\u001b[0m:\u001b[36m13\u001b[0m - \u001b[1mInitializing marqo client: http://cat-vm2.v6.rocks:8081 ...\u001b[0m\n",
      "\u001b[1mINFO\u001b[0m | \u001b[32m2025-04-10 18:30:29.612\u001b[0m | \u001b[36mvectordb\u001b[0m | \u001b[36minit_marqo\u001b[0m:\u001b[36m28\u001b[0m - \u001b[1mMarqo indexes: [{'indexName': 'my_inde1111'}, {'indexName': 'my_index'}, {'indexName': 'test_api_index'}, {'indexName': 'page_20250409_valer'}, {'indexName': 'my_idma'}]\u001b[0m\n",
      "\u001b[1mINFO\u001b[0m | \u001b[32m2025-04-10 18:30:29.613\u001b[0m | \u001b[36mvectordb\u001b[0m | \u001b[36minit_marqo\u001b[0m:\u001b[36m35\u001b[0m - \u001b[1mMarqo index exists: page_20250409_valer\u001b[0m\n"
     ]
    }
   ],
   "source": [
    "index_name = 'page_20250409_valer'  # имя индекса в Marqo\n",
    "mq = init_marqo(index_name)\n",
    "idx = mq.index(index_name)"
   ]
  },
  {
   "cell_type": "code",
   "execution_count": 6,
   "id": "c2d04520",
   "metadata": {},
   "outputs": [
    {
     "data": {
      "text/plain": [
       "{'numberOfDocuments': 39,\n",
       " 'numberOfVectors': 39,\n",
       " 'backend': {'memoryUsedPercentage': 2.3722926589799997,\n",
       "  'storageUsedPercentage': 17.89415250398}}"
      ]
     },
     "execution_count": 6,
     "metadata": {},
     "output_type": "execute_result"
    }
   ],
   "source": [
    "idx.get_stats()"
   ]
  },
  {
   "cell_type": "code",
   "execution_count": 7,
   "id": "e602a098",
   "metadata": {},
   "outputs": [
    {
     "data": {
      "text/plain": [
       "{'models': [{'model_name': 'hf/e5-base-v2', 'model_device': 'cpu'},\n",
       "  {'model_name': 'open_clip/ViT-B-32/laion2b_s34b_b79k',\n",
       "   'model_device': 'cpu'}]}"
      ]
     },
     "execution_count": 7,
     "metadata": {},
     "output_type": "execute_result"
    }
   ],
   "source": [
    "idx.get_loaded_models()"
   ]
  },
  {
   "cell_type": "code",
   "execution_count": 8,
   "id": "a483f105",
   "metadata": {},
   "outputs": [
    {
     "data": {
      "text/plain": [
       "{'type': 'unstructured',\n",
       " 'treatUrlsAndPointersAsImages': False,\n",
       " 'treatUrlsAndPointersAsMedia': False,\n",
       " 'filterStringMaxLength': 50,\n",
       " 'model': 'hf/e5-base-v2',\n",
       " 'normalizeEmbeddings': True,\n",
       " 'textPreprocessing': {'splitLength': 2,\n",
       "  'splitOverlap': 0,\n",
       "  'splitMethod': 'sentence'},\n",
       " 'imagePreprocessing': {},\n",
       " 'videoPreprocessing': {'splitLength': 20, 'splitOverlap': 3},\n",
       " 'audioPreprocessing': {'splitLength': 10, 'splitOverlap': 3},\n",
       " 'vectorNumericType': 'float',\n",
       " 'annParameters': {'spaceType': 'prenormalized-angular',\n",
       "  'parameters': {'efConstruction': 512, 'm': 16}}}"
      ]
     },
     "execution_count": 8,
     "metadata": {},
     "output_type": "execute_result"
    }
   ],
   "source": [
    "idx.get_settings()"
   ]
  },
  {
   "cell_type": "code",
   "execution_count": 26,
   "id": "221ca5b0",
   "metadata": {},
   "outputs": [
    {
     "data": {
      "text/plain": [
       "{'hits': [{'_id': '837cb3e6-b7c8-4704-830f-a5376c679805',\n",
       "   'name': 'Уведомления',\n",
       "   'views_count': '0',\n",
       "   'created_at': '2025-03-28 10:11:29.817386+00:00',\n",
       "   'created_by_id': 'f60d1f0a-62d6-4e0e-8163-965fa8fe48a7',\n",
       "   'site_id': 'b7a8428a-9f61-46ff-9fcf-f835a577e1e3',\n",
       "   'type': 'page',\n",
       "   'data': '**Возможности пользователя**[**¶**](https://people-hub.ru/documentation/guides/notifications/#_2)\\n-------------------------------------------------------------------------------------------------\\n\\n### **Просмотр уведомлений**[**¶**](https://people-hub.ru/documentation/guides/notifications/#_3)\\n\\nИконка области уведомлений с указанием количества непрочитанных уведомлений размещается в верхней области сайта рядом с иконкой профиля пользователя.\\n\\n[![Размещение иконки области уведомлений](https://people-hub.ru/documentation/img/notification_show_2.png)](https://people-hub.ru/documentation/img/notification_show_2.png)\\n\\n*Рисунок. Размещение иконки области уведомлений*\\n\\n[![Иконка области уведомлений](https://people-hub.ru/documentation/img/notification_show_1.png)](https://people-hub.ru/documentation/img/notification_show_1.png)\\n\\n*Рисунок. Иконка области уведомлений*\\n\\nВ **Ленте уведомлений** отображается информация для пользователя о событиях системы:\\n\\n* приглашения на встречи;\\n* изменения настроек встреч;\\n* присвоение пользователю наград и благодарностей;\\n* упоминание пользователя в комментариях;\\n* комментарии и реакции к публикациям пользователя;\\n* приглашения в группу;\\n* добавления поста в блог.\\n\\nУведомления отображаются постранично. На странице выводится 20 уведомлений.\\n\\n[![Лента уведомлений](https://people-hub.ru/documentation/img/notification_show_5.png)](https://people-hub.ru/documentation/img/notification_show_5.png)\\n\\n*Рисунок. Лента уведомлений*\\n\\nЧтобы отсортировать уведомления, нажмите на иконку сортировки и выберите один из параметров:\\n\\n* **Сначала новые** – сначала отобразятся новые уведомления;\\n* **Сначала непрочитанные** – сначала отобразятся непрочитанные уведомления.\\n\\n[![Сортировка уведомлений](https://people-hub.ru/documentation/img/notification_show_6.png)](https://people-hub.ru/documentation/img/notification_show_6.png)\\n\\n*Рисунок. Сортировка уведомлений*\\n\\nПосле выбора параметра нажмите:\\n\\n* **Применить** – уведомления отсортируются по выбранному параметру;\\n* **Отменить** – порядок отображения уведомлений не изменится.\\n\\nПо нажатию **Отметить все прочитанным** счетчик непрочитанных уведомлений обнуляется.\\n\\n[![Отметить все прочитанным](https://people-hub.ru/documentation/img/notification_show_3.png)](https://people-hub.ru/documentation/img/notification_show_3.png)\\n\\n*Рисунок. Отметить все прочитанным*\\n\\nВ Ленте уведомлений из уведомления о приглашении на встречу можно сразу отметить свой статус **Пойду**, **Не иду**, **Может быть**. Информация о статусе будет обновлена в записи о встрече в календаре участников и организатора.\\n\\n[![Приглашение на встречу](https://people-hub.ru/documentation/img/notification_show_4.png)](https://people-hub.ru/documentation/img/notification_show_4.png)\\n\\n*Рисунок. Приглашение на встречу*\\n\\nИз уведомления о присвоении награды можно нажать **Посмотреть** и перейти в раздел **Мои награды** профиля пользователя.\\n\\n[![Присвоение награды пользователю](https://people-hub.ru/documentation/img/1_8.png)](https://people-hub.ru/documentation/img/1_8.png)\\n\\n*Рисунок. Присвоение награды пользователю*\\n\\n### **Настройка уведомлений**[**¶**](https://people-hub.ru/documentation/guides/notifications/#_4)\\n\\nНа портале можно выбрать, какие типы уведомлений будут отображаться в ленте уведомлений и какие типы уведомлений будут отправляться на электронную почту.\\n\\nЧтобы настроить уведомления:\\n\\nНажмите на дополнительное меню рядом с аватаром и выберите **Настройки** или нажмите на иконку настроек в Ленте уведомлений.\\n\\n[![Настройка уведомлений](https://people-hub.ru/documentation/img/setup_button.png)](https://people-hub.ru/documentation/img/setup_button.png)\\n\\n*Рисунок. Кнопка Настройки*\\n\\n[![Настройка уведомлений в ленте](https://people-hub.ru/documentation/img/setup_button1.png)](https://people-hub.ru/documentation/img/setup_button1.png)\\n\\n*Рисунок. Иконка настроек в Ленте уведомлений*\\n\\nПерейдите во вкладку **Настройки уведомлений**. Настройки уведомлений разделены на блоки по категориям. Для быстрого перехода к нужному блоку настроек выберите категорию справа.\\n\\n[![Настройка уведомлений](https://people-hub.ru/documentation/img/setup_notification_tab.png)](https://people-hub.ru/documentation/img/setup_notification_tab.png)\\n\\n*Рисунок. Вкладка Настройки уведомлений*\\n\\nВыберите типы уведомлений и канал для получения каждого типа уведомлений.\\n\\n[![Настройка уведомлений](https://people-hub.ru/documentation/img/setup_notification_toggles.png)](https://people-hub.ru/documentation/img/setup_notification_toggles.png)\\n\\n*Рисунок. Выбор типа уведомления и канала для получения уведомлений*\\n\\nПри изменении канала получения уведомлений новые настройки сохраняются автоматически.\\n\\nЧтобы вернуть настройки уведомлений по умолчанию, нажмите **Сбросить настройки по умолчанию**.\\n\\n[![Настройка уведомлений](https://people-hub.ru/documentation/img/reset_setup_notification.png)](https://people-hub.ru/documentation/img/reset_setup_notification.png)\\n\\n*Рисунок. Сбросить настройки по умолчанию*',\n",
       "   '_highlights': [{'name': 'Уведомления'}],\n",
       "   '_score': 0.8601649719595044},\n",
       "  {'_id': '71a51a27-caa4-4edd-b516-98d55b7ac3c7',\n",
       "   'name': 'Настройка и наполнение базовым контентом портала после установки',\n",
       "   'views_count': '0',\n",
       "   'created_at': '2025-03-28 10:04:29.467167+00:00',\n",
       "   'created_by_id': 'f60d1f0a-62d6-4e0e-8163-965fa8fe48a7',\n",
       "   'site_id': 'b7a8428a-9f61-46ff-9fcf-f835a577e1e3',\n",
       "   'type': 'page',\n",
       "   'data': 'Настройка и наполнение базовым контентом портала после установки[¶](https://people-hub.ru/documentation/guides/chek/#_1)\\n========================================================================================================================\\n\\n**Возможности администратора**[**¶**](https://people-hub.ru/documentation/guides/chek/#_2)\\n------------------------------------------------------------------------------------------\\n\\nПосле установки продукта VK People Hub необходимо осуществить его настройку и наполнить базовым контентом.\\n\\n### **Добавление администратора системы (superuser)**[**¶**](https://people-hub.ru/documentation/guides/chek/#superuser)\\n\\nВ KeyCloak необходимо добавить не менее одного пользователя и назначить ему роль **Администратор системы (superuser)**.\\n\\n**Администратор системы (superuser)** необходим для выполнения настройки портала и наполнения его базовым контентом.\\n\\nДалее в инструкции описаны возможности администратора с ролью **Администратор системы (superuser)**, если не указаны иные роли.\\n\\n### **Настройка портала**[**¶**](https://people-hub.ru/documentation/guides/chek/#_3)\\n\\n#### **Загрузка справочников**[**¶**](https://people-hub.ru/documentation/guides/chek/#_4)\\n\\nНеобходимо загрузить базовые справочники. Загрузка базовых справочников описана в [инструкции](https://people-hub.ru/documentation/guides/administration/#settings).\\n\\nСписок загружаемых справочников, их наполнение, инструкции по редактированию справочников описано в [инструкции](https://people-hub.ru/documentation/guides/administration/#catalogues).\\n\\n#### **Настроить боковое меню**[**¶**](https://people-hub.ru/documentation/guides/chek/#_5)\\n\\nНеобходимо настроить боковое меню по [инструкции](https://people-hub.ru/documentation/guides/main_page/#sidebar).\\n\\n#### **Настроить цветовую схему**[**¶**](https://people-hub.ru/documentation/guides/chek/#_6)\\n\\nНеобходимо загрузить логотип и настроить цветовые схемы по [инструкции](https://people-hub.ru/documentation/guides/administration/#design).\\n\\n#### **Вывести виджеты на главную страницу**[**¶**](https://people-hub.ru/documentation/guides/chek/#_7)\\n\\nНеобходимо настроить виджеты на главной странице по [инструкции](https://people-hub.ru/documentation/guides/main_page/#widjets).\\n\\n### **Загрузить пользователей**[**¶**](https://people-hub.ru/documentation/guides/chek/#_8)\\n\\n#### **Загрузить пользователей в KeyCloak**[**¶**](https://people-hub.ru/documentation/guides/chek/#keycloak)\\n\\nНеобходимо загрузить пользователей в KeyCloak.\\n\\n> Раздел будет дополнен в следующих релизах.\\n\\n#### **Загрузить организационную структуру**[**¶**](https://people-hub.ru/documentation/guides/chek/#_9)\\n\\n> Важно! Только после загрузки пользователей в KeyCloak необходимо загрузить организационную структуру.\\n\\nЗагрузка организационной структуры описана в [интеграции](https://people-hub.ru/documentation/dev/1Q2024/integrations/).\\n\\n#### **Распределить роли для администрирования сервисов**[**¶**](https://people-hub.ru/documentation/guides/chek/#_10)\\n\\nНеобходимо распределить роли на сервисы в соответствии с их ролевыми моделями [Новости](https://people-hub.ru/documentation/guides/news/#news_admin_management), [Мероприятия](https://people-hub.ru/documentation/guides/events/#events_admin_management), [Конструктор сайтов](https://people-hub.ru/documentation/guides/chek/sitector/sities.md%E2%84%96sitector_role).\\n\\n### **Осуществить наполнение контентом (при необходимости)**[**¶**](https://people-hub.ru/documentation/guides/chek/#_11)\\n\\n#### **Добавить пользовательское соглашение**[**¶**](https://people-hub.ru/documentation/guides/chek/#_12)\\n\\nМожно добавить пользовательское соглашение по [инструкции](https://people-hub.ru/documentation/guides/terms_of_service/#terms_of_service_adding_version).\\n\\n#### **Добавить новости**[**¶**](https://people-hub.ru/documentation/guides/chek/#_13)\\n\\nПользователю с ролью **Администратор системы (superuser)**, **Администратор сервиса новостей** или **Администратор категорий новостей** необходимо добавить категории новостей.\\n\\nДобавление категорий новостей описано в [инструкции администратора](https://people-hub.ru/documentation/guides/news/#news_categories_management).\\n\\nПользователю с ролью **Администратор системы (superuser)**, **Администратор сервиса новостей** или **Автор новостей** необходимо добавить несколько новостей, чтобы пользователи могли при первом переходе на портал увидеть минимальный набор новостей (новости также отображаются в виджетах, и если они ранее были добавлены на главный экран, то необходимо их пометить признаками главной новости и важной новости).\\n\\nДобавление новостей описано в [инструкции](https://people-hub.ru/documentation/guides/news/#news_create).\\n\\n#### **Добавить мероприятия**[**¶**](https://people-hub.ru/documentation/guides/chek/#_14)\\n\\nПользователю с ролью **Администратор системы (superuser)**, **Полный доступ к операциям в мероприятиях**необходимо добавить категории мероприятий.\\n\\nДобавление категорий мероприятий описано в [инструкции администратора](https://people-hub.ru/documentation/guides/events/#events_admin_category).\\n\\nПользователю с ролью **Администратор системы (superuser)**, **Создание мероприятий**или **Полный доступ к операциям в мероприятиях** необходимо добавить несколько открытых мероприятий, чтобы пользователи могли при первом переходе увидеть минимальный набор мероприятий.\\n\\nДобавление мероприятий описано в [инструкции](https://people-hub.ru/documentation/guides/events/#events_create).\\n\\n#### **Добавить сайты**[**¶**](https://people-hub.ru/documentation/guides/chek/#_15)\\n\\nПользователю с ролью **Администратор системы (superuser)**, **Администратор сервиса Конструктор сайтов**необходимо добавить сайты в сервисе Конструктор сайтов, например, с информацией о компании и внутренних регламентах.\\n\\nДобавление сайтов описано в [инструкции](https://people-hub.ru/documentation/guides/sitector/sities/).\\n\\n#### **Добавить переговорные комнаты**[**¶**](https://people-hub.ru/documentation/guides/chek/#_16)\\n\\n**Администратору Панели администрирования сервиса переговорных комнат**необходимо добавить переговорные комнаты в дополнительной административной панели, чтобы пользователи могли воспользоваться сервисом бронирования переговорных комнат.\\n\\nДобавление переговорных комнат описано в [инструкции](https://people-hub.ru/documentation/guides/room_reserving/#room_create).\\n\\n#### **Добавить сообщества, группы, блоги**[**¶**](https://people-hub.ru/documentation/guides/chek/#_17)\\n\\nНеобходимо добавить несколько открытых сообществ и наполнить их содержанием: описанием и постами, чтобы пользователи могли при первом переходе увидеть минимальный набор сообществ.\\n\\nДобавление сообществ описано в [инструкции](https://people-hub.ru/documentation/guides/groups/#groups_creating).\\n\\n#### **Добавить награды и благодарности**[**¶**](https://people-hub.ru/documentation/guides/chek/#_18)\\n\\nПользователю с ролью **Администратор системы (superuser)** необходимо дополнить базовый набор наград и благодарностей.\\n\\nДобавление наград и благодарностей описано в [инструкции](https://people-hub.ru/documentation/guides/gamification/#awards_appreciations_list_management).',\n",
       "   '_highlights': [{'name': 'Настройка и наполнение базовым контентом портала после установки'}],\n",
       "   '_score': 0.8540006007501896},\n",
       "  {'_id': '87548549-5647-442b-8150-be34c03f9a60',\n",
       "   'name': 'Проектное взаимодействие¶',\n",
       "   'views_count': '0',\n",
       "   'created_at': '2025-03-28 10:24:10.688887+00:00',\n",
       "   'created_by_id': 'f60d1f0a-62d6-4e0e-8163-965fa8fe48a7',\n",
       "   'site_id': 'b7a8428a-9f61-46ff-9fcf-f835a577e1e3',\n",
       "   'type': 'page',\n",
       "   'data': 'Планируйте проекты и задачи совместно с коллегами, создавайте проектные команды и участвуйте в них, отслеживайте и отмечайте выполнение задач.\\n\\n**Возможности пользователя**[**¶**](https://people-hub.ru/documentation/guides/project/#_2)\\n-------------------------------------------------------------------------------------------\\n\\n### **Работа с проектами**[**¶**](https://people-hub.ru/documentation/guides/project/#_3)\\n\\nВ разделе **Проекты** можно получить полную информацию по всем проектам на портале. Вы можете создать собственный проект и собрать команду или присоединиться к проекту другого сотрудника в качестве участника.\\n\\nЧтобы перейти в раздел выберите в боковом меню раздел **Проекты и задачи** → **Проекты**.\\n\\nВыберите проекты для просмотра:\\n\\n**Мои проекты** — проекты, в которых вы участвуете в качестве руководителя или участника;\\n\\n[![Список «Мои проекты»](https://people-hub.ru/documentation/img/projects_show_1.png)](https://people-hub.ru/documentation/img/projects_show_1.png)\\n\\n*Рисунок. Список **Мои проекты***\\n\\n**Все проекты** — все проекты, созданные на портале.\\n\\n[![Список «Все проекты»](https://people-hub.ru/documentation/img/projects_show_2.png)](https://people-hub.ru/documentation/img/projects_show_2.png)\\n\\n*Рисунок. Список **Все проекты***\\n\\n#### **Создание проекта**[**¶**](https://people-hub.ru/documentation/guides/project/#_4)\\n\\nЧтобы создать проект:\\n\\nНажмите **Создать проект**.\\n\\n[![Создание проекта — шаг 1](https://people-hub.ru/documentation/img/projects_create_1.png)](https://people-hub.ru/documentation/img/projects_create_1.png)\\n\\n*Рисунок. Создание проекта — шаг 1*\\n\\nВведите номер проекта. Номер проекта должен быть уникальным и не может быть изменен после создания.\\n\\nДлина названия не должна превышать 6 символов. Допускаются только буквы латинского алфавита в верхнем регистре.\\n\\nВведите название проекта. Длина названия не должна превышать 100 символов.\\n\\n1. Введите цели и описание проекта. Длина текста в полях **Цели проекта** и **Описание**не должна превышать 1000 символов.\\n2. Выберите руководителя проекта. Назначьте руководителем себя или другого сотрудника.\\n\\nНажмите **Далее** для перехода к вводу сроков.\\n\\n[![Создание проекта — шаг 2](https://people-hub.ru/documentation/img/projects_create_2.png)](https://people-hub.ru/documentation/img/projects_create_2.png)\\n\\n*Рисунок. Создание проекта — шаг 2*\\n\\nВыберите даты начала и завершения проекта в поле **Старт и завершение**.\\n\\n1. При необходимости добавьте этапы. Для каждого этапа введите название, выберите сроки и цвет маркера для задач этапа и диаграммы Ганта.\\n\\nНажмите **Далее**, для перехода к добавлению участников.\\n\\n[![Создание проекта — шаг 3](https://people-hub.ru/documentation/img/projects_create_3.png)](https://people-hub.ru/documentation/img/projects_create_3.png)\\n\\n\\\\_Рисунок. Создание проекта — шаг 3.\\n\\nВыберите участников проекта и нажмите **Создать проект**.\\n\\n#### **Просмотр и редактирование проекта**[**¶**](https://people-hub.ru/documentation/guides/project/#_5)\\n\\nДействия, описанные ниже, доступны пользователям с ролями:\\n\\n* создатель проекта;\\n* **Администратор системы (superuser)**.\\n\\nЧтобы просмотреть информацию о проекте, в котором вы руководитель или участник:\\n\\n1. В разделе **Проекты** выберите вкладку **Мои проекты**.\\n\\nНажмите номер проекта в верхнем левом углу карточки.\\n\\n[![Карточка проекта](https://people-hub.ru/documentation/img/projects_edit_1.png)](https://people-hub.ru/documentation/img/projects_edit_1.png)\\n\\n*Рисунок. Карточка проекта*\\n\\nВы можете также прочесть описание проекта во всплывающем окне. Для этого нажмите [![](https://people-hub.ru/documentation/img/5_38.png)](https://people-hub.ru/documentation/img/5_38.png) в карточке проекта.\\n\\nЧтобы найти проект независимо от вашего участия в нем:\\n\\n1. Выберите вкладку **Все проекты**.\\n\\nВведите часть имени проекта в поле поиска.\\n\\n[![Поиск проекта по названию](https://people-hub.ru/documentation/img/projects_edit_2.png)](https://people-hub.ru/documentation/img/projects_edit_2.png)\\n\\n*Рисунок. Поиск проекта по названию*\\n\\nНажмите номер проекта.\\n\\nНа странице проекта вы можете просмотреть и отредактировать следующие сведения:\\n\\n1. Диаграмма Ганта, включая этапы и задачи. При необходимости нажмите **На весь экран**, чтобы открыть [подробное представление](https://people-hub.ru/documentation/guides/project/#project_stages).\\n2. Сроки, команда и описание. При необходимости нажмите **Редактировать основную информацию**, чтобы изменить эти сведения. См. [Создание проекта](https://people-hub.ru/documentation/guides/project/#project_creating).\\n3. Файлы в хранилище проекта. См. [Корпоративное хранилище](https://people-hub.ru/documentation/guides/filestorage/).\\n4. Задачи, входящие в проект, история действий и комментарии.\\n\\nЧтобы отредактировать проект:\\n\\n1. Нажмите **Редактировать основную информацию**.\\n2. Внесите нужные изменения в соответствующие поля.\\n3. Нажмите **Далее**.\\n\\n[![Окно редактирования проекта](https://people-hub.ru/documentation/img/projects_edit_3.png)](https://people-hub.ru/documentation/img/projects_edit_3.png)\\n\\n*Рисунок. Окно редактирования проекта*\\n\\n#### **Удаление проекта**[**¶**](https://people-hub.ru/documentation/guides/project/#_6)\\n\\nДействия, описанные ниже, доступны пользователям с ролями:\\n\\n* создатель проекта;\\n* **Администратор системы (superuser)**.\\n\\nЧтобы удалить проект:\\n\\n1. Нажмите **Редактировать основную информацию**.\\n\\nНажмите **Удалить проект**.\\n\\n[![Окно редактирования проекта с возможностью удаления проекта](https://people-hub.ru/documentation/img/projects_edit_4.png)](https://people-hub.ru/documentation/img/projects_edit_4.png)\\n\\n*Рисунок. Окно редактирования проекта с возможностью удаления проекта*\\n\\n#### **Окно Этапы проекта**[**¶**](https://people-hub.ru/documentation/guides/project/#_7)\\n\\nИспользуйте переключатель **Месяц/Год** и фильтры задач, чтобы настроить представление диаграммы Ганта проекта. Нажмите [![](https://people-hub.ru/documentation/img/5_39.png)](https://people-hub.ru/documentation/img/5_39.png) рядом с названием этапа, чтобы раскрыть список задач этапа.\\n\\n[![Окно «Этапы проекта»](https://people-hub.ru/documentation/img/5_46.png)](https://people-hub.ru/documentation/img/5_46.png)\\n\\n*Рисунок. Окно **Этапы проекта***\\n\\n### **Работа с задачами**[**¶**](https://people-hub.ru/documentation/guides/project/#_8)\\n\\nЗадачи в VK People Hub можно создавать только в рамках проектов.\\n\\nПри создании каждой задаче автоматически присваивается номер, состоящий из номера проекта и номера задачи в проекте. Например, если в проекте DOCEXT уже было создано три задачи, новая задача получит номер DOCEXT-4, независимо от порядка задач.\\n\\n#### **Создание задачи**[**¶**](https://people-hub.ru/documentation/guides/project/#_9)\\n\\nДействия, описанные ниже, доступны пользователям с ролями:\\n\\n* создатель проекта;\\n* участник проекта;\\n* **Администратор системы (superuser)**.\\n\\nЧтобы создать задачу:\\n\\n1. [Откройте проект](https://people-hub.ru/documentation/guides/project/#project_editing), в котором создаете задачу, и прокрутите экран вниз до списка задач или выберите **Проекты и задачи** → **Задачи** в боковом меню.\\n\\nНажмите **Создать**.\\n\\n[![Окно «Создание задачи»](https://people-hub.ru/documentation/img/projects_tasks_1.png)](https://people-hub.ru/documentation/img/projects_tasks_1.png)\\n\\n*Рисунок. Окно **Создание задачи***\\n\\nЗаполните обязательные поля.\\n\\nПри создании задачи на странице проекта этот проект предварительно выбран в поле **Проект** и не может быть изменен.\\n\\nПри необходимости заполните необязательные поля.\\n\\nПри выборе этапа в поле **Этап проекта** поле **Дата старта** становится обязательным. Даты старта и выполнения задачи должны попадать в диапазон дат выбранного этапа, но при этом срок выполнения задачи не может быть указан в прошлом.\\n\\nЕсли этап не выбран, можно указать любую дату старта, срок выполнения задачи при этом также не может быть указан в прошлом.\\n\\n[![В окне создания задачи выбран этап](https://people-hub.ru/documentation/img/projects_tasks_2.png)](https://people-hub.ru/documentation/img/projects_tasks_2.png)\\n\\n*Рисунок. В окне создания задачи выбран этап*\\n\\nПри необходимости прикрепите к задаче файлы. Файлы задач сохраняются в подпапках хранилища проекта.\\n\\n#### **Просмотр задачи**[**¶**](https://people-hub.ru/documentation/guides/project/#_10)\\n\\nЧтобы просмотреть задачи конкретного проекта:\\n\\n1. [Откройте проект](https://people-hub.ru/documentation/guides/project/#project_editing), к которому относится задача, и прокрутите экран вниз до списка задач.\\n\\nВоспользуйтесь фильтрами по названию, автору и исполнителю, чтобы найти необходимую задачу.\\n\\n[![Список задач проекта](https://people-hub.ru/documentation/img/projects_tasks_3.png)](https://people-hub.ru/documentation/img/projects_tasks_3.png)\\n\\n*Рисунок. Список задач проекта*\\n\\nНажмите номер задачи. Будет открыто окно быстрого просмотра задачи.\\n\\nЧтобы просмотреть все задачи на портале:\\n\\n1. Выберите **Проекты и задачи** → **Задачи** в боковом меню.\\n\\nВоспользуйтесь фильтрами по названию, автору, исполнителю и проекту, чтобы найти необходимую задачу.\\n\\n[![Список всех задач](https://people-hub.ru/documentation/img/projects_tasks_4.png)](https://people-hub.ru/documentation/img/projects_tasks_4.png)\\n\\n*Рисунок. Список всех задач*\\n\\nНажмите номер задачи. Будет открыто окно быстрого просмотра с основными сведениями о задаче.\\n\\n[![Окно быстрого просмотра задачи](https://people-hub.ru/documentation/img/projects_tasks_5.png)](https://people-hub.ru/documentation/img/projects_tasks_5.png)\\n\\n*Рисунок. Окно быстрого просмотра задачи*\\n\\n#### **Редактирование задачи**[**¶**](https://people-hub.ru/documentation/guides/project/#_11)\\n\\nДействия, описанные ниже, доступны пользователям с ролями:\\n\\n* создатель проекта;\\n* участники команды проекта;\\n* **Администратор системы (superuser)**.\\n\\nЧтобы изменить статус задачи:\\n\\n1. Откройте [окно быстрого просмотра задачи](https://people-hub.ru/documentation/guides/project/#task_viewing).\\n2. Выберите новый статус в списке в левом нижнем углу.\\n3. Нажмите **Подтвердить**.\\n\\nЧтобы изменить сведения о задаче:\\n\\n1. Откройте [окно быстрого просмотра задачи](https://people-hub.ru/documentation/guides/project/#task_viewing).\\n2. Нажмите **Редактировать**.\\n\\nИзмените необходимые сведения в окне **Редактирование задачи**.\\n\\n[![Окно редактирования задачи](https://people-hub.ru/documentation/img/projects_tasks_6.png)](https://people-hub.ru/documentation/img/projects_tasks_6.png)\\n\\n*Рисунок. Окно редактирования задачи*\\n\\nНажмите **Сохранить**.\\n\\nЧтобы удалить задачу:\\n\\n1. Откройте [окно быстрого просмотра задачи](https://people-hub.ru/documentation/guides/project/#task_viewing).\\n2. Нажмите **Удалить**.\\n\\n**Ролевая модель сервиса**[**¶**](https://people-hub.ru/documentation/guides/project/#_12)\\n------------------------------------------------------------------------------------------\\n\\n**Администратор системы (superuser)**\\n\\n* полный доступ ко всем операциям с проектами.\\n\\n**Создатель проекта**\\n\\n* редактирование информации о проекте;\\n* удаление проекта;\\n* удаление любых файлов в файловом хранилище.\\n\\n**Участник проекта**\\n\\n* удаление любых файлов в файловом хранилище.',\n",
       "   '_highlights': [{'name': 'Проектное взаимодействие¶'}],\n",
       "   '_score': 0.8511600553579247}],\n",
       " 'query': 'заявление на отпуск',\n",
       " 'limit': 3,\n",
       " 'offset': 0,\n",
       " 'processingTimeMs': 76}"
      ]
     },
     "execution_count": 26,
     "metadata": {},
     "output_type": "execute_result"
    }
   ],
   "source": [
    "# Запрос\n",
    "query = \"заявление на отпуск\"\n",
    "\n",
    "# Поиск по индексу\n",
    "idx.search(\n",
    "    q=query,\n",
    "    limit=3,\n",
    ")"
   ]
  },
  {
   "cell_type": "code",
   "execution_count": 27,
   "id": "fbad0546",
   "metadata": {},
   "outputs": [
    {
     "data": {
      "text/plain": [
       "{'_id': 'e3d4a37b-0f4a-422a-a6b2-0101ce9a8e62',\n",
       " 'name': 'Главная',\n",
       " 'views_count': '1',\n",
       " 'created_by_id': 'f60d1f0a-62d6-4e0e-8163-965fa8fe48a7',\n",
       " 'updated_by_id': 'f60d1f0a-62d6-4e0e-8163-965fa8fe48a7',\n",
       " 'updated_at': '2025-03-28 10:03:49.299474+00:00',\n",
       " 'created_at': '2025-03-28 10:03:09.454834+00:00',\n",
       " 'type': 'page',\n",
       " 'site_id': 'b7a8428a-9f61-46ff-9fcf-f835a577e1e3'}"
      ]
     },
     "execution_count": 27,
     "metadata": {},
     "output_type": "execute_result"
    }
   ],
   "source": [
    "page_id = 'e3d4a37b-0f4a-422a-a6b2-0101ce9a8e62'\n",
    "\n",
    "idx.get_document(page_id)"
   ]
  },
  {
   "cell_type": "code",
   "execution_count": null,
   "id": "d49c963a",
   "metadata": {},
   "outputs": [
    {
     "data": {
      "text/plain": [
       "{'acknowledged': True}"
      ]
     },
     "execution_count": 17,
     "metadata": {},
     "output_type": "execute_result"
    }
   ],
   "source": [
    "# idx.delete()"
   ]
  }
 ],
 "metadata": {
  "kernelspec": {
   "display_name": "cat-spider-3u5woAeV-py3.12",
   "language": "python",
   "name": "python3"
  },
  "language_info": {
   "codemirror_mode": {
    "name": "ipython",
    "version": 3
   },
   "file_extension": ".py",
   "mimetype": "text/x-python",
   "name": "python",
   "nbconvert_exporter": "python",
   "pygments_lexer": "ipython3",
   "version": "3.12.9"
  }
 },
 "nbformat": 4,
 "nbformat_minor": 5
}
